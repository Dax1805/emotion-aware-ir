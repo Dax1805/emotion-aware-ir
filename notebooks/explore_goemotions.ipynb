{
 "cells": [
  {
   "cell_type": "code",
   "id": "initial_id",
   "metadata": {
    "collapsed": true,
    "ExecuteTime": {
     "end_time": "2025-04-02T21:03:52.835789Z",
     "start_time": "2025-04-02T21:03:52.714874Z"
    }
   },
   "source": "from datasets import load_dataset",
   "outputs": [],
   "execution_count": 8
  },
  {
   "metadata": {
    "ExecuteTime": {
     "end_time": "2025-04-02T21:03:59.046295Z",
     "start_time": "2025-04-02T21:03:56.052707Z"
    }
   },
   "cell_type": "code",
   "source": [
    "# Load dataset\n",
    "dataset = load_dataset(\"go_emotions\")\n",
    "emotion_list = dataset[\"train\"].features[\"labels\"].feature.names"
   ],
   "id": "fb1f841e47114bc2",
   "outputs": [],
   "execution_count": 9
  },
  {
   "metadata": {
    "ExecuteTime": {
     "end_time": "2025-04-02T21:04:15.814858Z",
     "start_time": "2025-04-02T21:04:15.796855Z"
    }
   },
   "cell_type": "code",
   "source": [
    "# Sample example\n",
    "sample = dataset[\"train\"][0]\n",
    "print(\"Text:\", sample[\"text\"])\n",
    "print(\"Raw Labels:\", sample[\"labels\"])\n",
    "print(\"Emotions:\", [emotion_list[i] for i in sample[\"labels\"]])"
   ],
   "id": "b61a4975f6a0df22",
   "outputs": [
    {
     "name": "stdout",
     "output_type": "stream",
     "text": [
      "Text: My favourite food is anything I didn't have to cook myself.\n",
      "Raw Labels: [27]\n",
      "Emotions: ['neutral']\n"
     ]
    }
   ],
   "execution_count": 10
  },
  {
   "metadata": {
    "ExecuteTime": {
     "end_time": "2025-04-02T21:11:10.266694Z",
     "start_time": "2025-04-02T21:11:10.239525Z"
    }
   },
   "cell_type": "code",
   "source": [
    "# Simplify Emotion Mapping\n",
    "GOEMOTION_TO_CUSTOM = {\n",
    "    \"optimism\": \"Hopeful\",\n",
    "    \"anticipation\": \"Hopeful\",\n",
    "    \"joy\": \"Hopeful\",\n",
    "    \"anger\": \"Angry\",\n",
    "    \"annoyance\": \"Angry\",\n",
    "    \"fear\": \"Fearful\",\n",
    "    \"disappointment\": \"Frustrated\",\n",
    "    \"pride\": \"Empowered\",\n",
    "    \"gratitude\": \"Empowered\",\n",
    "    \"approval\": \"Empowered\",\n",
    "    \"neutral\": \"Neutral\"\n",
    "}\n",
    "\n",
    "def map_emotions(label_ids, emotion_list):\n",
    "    mapped = set()\n",
    "    for idx in label_ids:\n",
    "        emo = emotion_list[idx]\n",
    "        if emo in GOEMOTION_TO_CUSTOM:\n",
    "            mapped.add(GOEMOTION_TO_CUSTOM[emo])\n",
    "    return list(mapped)"
   ],
   "id": "d2aa83b80a7ff417",
   "outputs": [],
   "execution_count": 11
  },
  {
   "metadata": {
    "ExecuteTime": {
     "end_time": "2025-04-02T21:11:26.900352Z",
     "start_time": "2025-04-02T21:11:26.886757Z"
    }
   },
   "cell_type": "code",
   "source": [
    "# Test mapping on one sample\n",
    "mapped = map_emotions(sample[\"labels\"], emotion_list)\n",
    "print(\"Mapped Emotion(s):\", mapped)"
   ],
   "id": "4c5f668effe9e75d",
   "outputs": [
    {
     "name": "stdout",
     "output_type": "stream",
     "text": [
      "Mapped Emotion(s): ['Neutral']\n"
     ]
    }
   ],
   "execution_count": 12
  },
  {
   "metadata": {
    "ExecuteTime": {
     "end_time": "2025-04-02T21:11:52.227530Z",
     "start_time": "2025-04-02T21:11:51.881446Z"
    }
   },
   "cell_type": "code",
   "source": [
    "import pandas as pd\n",
    "\n",
    "# Create a small subset (e.g., 500 examples) for local dev/testing\n",
    "def extract_subset(dataset, emotion_list, limit=500):\n",
    "    rows = []\n",
    "    for example in dataset[\"train\"]:\n",
    "        custom_emos = map_emotions(example[\"labels\"], emotion_list)\n",
    "        if custom_emos:\n",
    "            rows.append({\n",
    "                \"text\": example[\"text\"],\n",
    "                \"custom_emotions\": custom_emos\n",
    "            })\n",
    "        if len(rows) >= limit:\n",
    "            break\n",
    "    return pd.DataFrame(rows)\n",
    "\n",
    "df = extract_subset(dataset, emotion_list)\n",
    "df.to_csv(\"../data/processed/goemotions_mapped_subset.csv\", index=False)"
   ],
   "id": "b1aa16ac45fbf5cd",
   "outputs": [],
   "execution_count": 13
  },
  {
   "metadata": {},
   "cell_type": "code",
   "outputs": [],
   "execution_count": null,
   "source": "",
   "id": "cdd8fd422acd1f59"
  }
 ],
 "metadata": {
  "kernelspec": {
   "display_name": "Python 3",
   "language": "python",
   "name": "python3"
  },
  "language_info": {
   "codemirror_mode": {
    "name": "ipython",
    "version": 2
   },
   "file_extension": ".py",
   "mimetype": "text/x-python",
   "name": "python",
   "nbconvert_exporter": "python",
   "pygments_lexer": "ipython2",
   "version": "2.7.6"
  }
 },
 "nbformat": 4,
 "nbformat_minor": 5
}
