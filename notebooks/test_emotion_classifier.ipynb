{
 "cells": [
  {
   "cell_type": "code",
   "id": "initial_id",
   "metadata": {
    "collapsed": true,
    "ExecuteTime": {
     "end_time": "2025-04-03T00:34:52.731671Z",
     "start_time": "2025-04-03T00:34:52.634655Z"
    }
   },
   "source": "from models.emotion_classifier import predict_emotions",
   "outputs": [],
   "execution_count": 13
  },
  {
   "metadata": {
    "ExecuteTime": {
     "end_time": "2025-04-03T00:34:54.427075Z",
     "start_time": "2025-04-03T00:34:53.815627Z"
    }
   },
   "cell_type": "code",
   "source": "print(predict_emotions(\"I feel really proud of how far we’ve come.\"))",
   "id": "2d4f2ff60d67b133",
   "outputs": [
    {
     "name": "stdout",
     "output_type": "stream",
     "text": [
      "['Hopeful', 'Neutral', 'Empowered']\n"
     ]
    }
   ],
   "execution_count": 14
  },
  {
   "metadata": {
    "ExecuteTime": {
     "end_time": "2025-04-03T00:34:54.489005Z",
     "start_time": "2025-04-03T00:34:54.433118Z"
    }
   },
   "cell_type": "code",
   "source": "print(predict_emotions(\"I’m scared about the future.\"))",
   "id": "1719f0e5f382f7b2",
   "outputs": [
    {
     "name": "stdout",
     "output_type": "stream",
     "text": [
      "['Frustrated', 'Fearful', 'Empowered']\n"
     ]
    }
   ],
   "execution_count": 15
  },
  {
   "metadata": {
    "ExecuteTime": {
     "end_time": "2025-04-03T00:39:11.993491Z",
     "start_time": "2025-04-03T00:39:11.945500Z"
    }
   },
   "cell_type": "code",
   "source": "print(predict_emotions(\"Nothing I do makes a difference anymore — I’ve just given up\"))\n",
   "id": "442161dc6aa83448",
   "outputs": [
    {
     "name": "stdout",
     "output_type": "stream",
     "text": [
      "['Angry', 'Frustrated', 'Fearful', 'Empowered']\n"
     ]
    }
   ],
   "execution_count": 20
  },
  {
   "metadata": {
    "ExecuteTime": {
     "end_time": "2025-04-03T00:34:55.030422Z",
     "start_time": "2025-04-03T00:34:54.893898Z"
    }
   },
   "cell_type": "code",
   "source": "print(predict_emotions(\"The new policy gives us hope again.\"))",
   "id": "b287fb82d1e7a175",
   "outputs": [
    {
     "name": "stdout",
     "output_type": "stream",
     "text": [
      "['Hopeful', 'Neutral', 'Empowered']\n"
     ]
    }
   ],
   "execution_count": 17
  },
  {
   "metadata": {
    "ExecuteTime": {
     "end_time": "2025-04-03T00:34:55.898073Z",
     "start_time": "2025-04-03T00:34:55.688625Z"
    }
   },
   "cell_type": "code",
   "source": [
    "# Choosing perfect threshold\n",
    "for t in [0.3, 0.4, 0.5, 0.6]:\n",
    "    print(f\"\\nThreshold: {t}\")\n",
    "    print(\"→\", predict_emotions(\"Corporations are making it worse and no one cares.\", threshold=t))\n"
   ],
   "id": "733c0737f6058da2",
   "outputs": [
    {
     "name": "stdout",
     "output_type": "stream",
     "text": [
      "\n",
      "Threshold: 0.3\n",
      "→ ['Angry', 'Frustrated', 'Fearful', 'Empowered']\n",
      "\n",
      "Threshold: 0.4\n",
      "→ ['Angry', 'Frustrated', 'Fearful', 'Empowered']\n",
      "\n",
      "Threshold: 0.5\n",
      "→ ['Angry', 'Frustrated', 'Empowered']\n",
      "\n",
      "Threshold: 0.6\n",
      "→ ['Angry', 'Frustrated', 'Empowered']\n"
     ]
    }
   ],
   "execution_count": 18
  },
  {
   "metadata": {},
   "cell_type": "code",
   "outputs": [],
   "execution_count": null,
   "source": "",
   "id": "c0e2e443dd9b47e6"
  }
 ],
 "metadata": {
  "kernelspec": {
   "display_name": "Python 3",
   "language": "python",
   "name": "python3"
  },
  "language_info": {
   "codemirror_mode": {
    "name": "ipython",
    "version": 2
   },
   "file_extension": ".py",
   "mimetype": "text/x-python",
   "name": "python",
   "nbconvert_exporter": "python",
   "pygments_lexer": "ipython2",
   "version": "2.7.6"
  }
 },
 "nbformat": 4,
 "nbformat_minor": 5
}
